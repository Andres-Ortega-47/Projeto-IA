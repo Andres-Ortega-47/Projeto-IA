{
  "nbformat": 4,
  "nbformat_minor": 0,
  "metadata": {
    "colab": {
      "provenance": [],
      "authorship_tag": "ABX9TyM8QPLl68fyHyWOapTUULnP",
      "include_colab_link": true
    },
    "kernelspec": {
      "name": "python3",
      "display_name": "Python 3"
    },
    "language_info": {
      "name": "python"
    }
  },
  "cells": [
    {
      "cell_type": "markdown",
      "metadata": {
        "id": "view-in-github",
        "colab_type": "text"
      },
      "source": [
        "<a href=\"https://colab.research.google.com/github/Andres-Ortega-47/Projeto-IA/blob/main/ProjetoPersona.ipynb\" target=\"_parent\"><img src=\"https://colab.research.google.com/assets/colab-badge.svg\" alt=\"Open In Colab\"/></a>"
      ]
    },
    {
      "cell_type": "code",
      "execution_count": 1,
      "metadata": {
        "id": "f_eA_5bvwLG0"
      },
      "outputs": [],
      "source": [
        "!pip install -q -U google-generativeai"
      ]
    },
    {
      "cell_type": "code",
      "source": [
        "import google.generativeai as genai\n",
        "import numpy as np\n",
        "import pandas as pd\n",
        "\n",
        "from google.colab import userdata\n",
        "api_key = userdata.get('SECRET_KEY')\n",
        "genai.configure(api_key=api_key)"
      ],
      "metadata": {
        "id": "3QjoJbkowZ4d"
      },
      "execution_count": 3,
      "outputs": []
    },
    {
      "cell_type": "code",
      "source": [
        "for m in genai.list_models():\n",
        "  if 'generateContent' in m.supported_generation_methods:\n",
        "    print(m.name)"
      ],
      "metadata": {
        "colab": {
          "base_uri": "https://localhost:8080/",
          "height": 139
        },
        "id": "hr9ODG1UxHym",
        "outputId": "4a4d2692-33e5-4e4d-cd95-535063afe84e"
      },
      "execution_count": 4,
      "outputs": [
        {
          "output_type": "stream",
          "name": "stdout",
          "text": [
            "models/gemini-1.0-pro\n",
            "models/gemini-1.0-pro-001\n",
            "models/gemini-1.0-pro-latest\n",
            "models/gemini-1.0-pro-vision-latest\n",
            "models/gemini-1.5-pro-latest\n",
            "models/gemini-pro\n",
            "models/gemini-pro-vision\n"
          ]
        }
      ]
    },
    {
      "cell_type": "code",
      "source": [
        "generation_config = {\n",
        "    \"candidate_count\":1,\n",
        "    \"temperature\": 0,\n",
        "}"
      ],
      "metadata": {
        "id": "oigvW0BZxS4z"
      },
      "execution_count": 5,
      "outputs": []
    },
    {
      "cell_type": "code",
      "source": [
        "safety_settings ={\n",
        "    \"HARASSMENT\": \"BLOCK_NONE\",\n",
        "    \"HATE\": \"BLOCK_NONE\",\n",
        "    \"SEXUAL\": \"BLOCK_NONE\",\n",
        "    \"DANGEROUS\": \"BLOCK_NONE\"\n",
        "}"
      ],
      "metadata": {
        "id": "YmSSMVYKxZmW"
      },
      "execution_count": 6,
      "outputs": []
    },
    {
      "cell_type": "code",
      "source": [
        "model = genai.GenerativeModel(model_name=\"gemini-1.0-pro\",\n",
        "                              generation_config = generation_config,\n",
        "                              safety_settings = safety_settings)"
      ],
      "metadata": {
        "id": "TGiuoB93xgRw"
      },
      "execution_count": 7,
      "outputs": []
    },
    {
      "cell_type": "code",
      "source": [
        "tipo_do_negocio = input(\"Do que se trata seu negócio? \")\n",
        "tipo_do_produto = input(\"Do que se trata seu produto? \")\n"
      ],
      "metadata": {
        "colab": {
          "base_uri": "https://localhost:8080/"
        },
        "id": "BLZHhfK8zl4x",
        "outputId": "4bb8813e-fc26-4d6c-e077-80719fa38ffa"
      },
      "execution_count": 20,
      "outputs": [
        {
          "name": "stdout",
          "output_type": "stream",
          "text": [
            "Do que se trata seu negócio? Uma empresa de usiagem de peças mecânicas\n",
            "Do que se trata seu produto? São peças usinadas em tornos mecânicos para os mais diversos tipos de uso\n"
          ]
        }
      ]
    },
    {
      "cell_type": "code",
      "source": [
        "plano_de_acoes = model.generate_content(f\"Você é um UX researcher que precisa mapear personas para {tipo_do_negocio}. Seu foco é compreender os desafios, necessidades e características de pessoas que possam ter interesse em conteúdos e produtos relacionados a {tipo_do_produto}. Você tem duas semanas para realizar a pesquisa que vai orientar a tomada de decisão dos times de produto, marketing e desenvolvimento. Elabore um plano de ações considerando essas necessidades, contendo objetivos da pesquisa, etapas qualitativa, quantitativa, e o processo de análise.\")\n",
        "print(plano_de_acoes.text)"
      ],
      "metadata": {
        "colab": {
          "base_uri": "https://localhost:8080/",
          "height": 937
        },
        "id": "Cm5XLUPnxt9L",
        "outputId": "a8405bcd-3622-479b-8d8b-86bb7bf25ddb"
      },
      "execution_count": 21,
      "outputs": [
        {
          "output_type": "stream",
          "name": "stdout",
          "text": [
            "**Plano de Ações de Pesquisa de Persona**\n",
            "\n",
            "**Objetivos da Pesquisa:**\n",
            "\n",
            "* Compreender os desafios, necessidades e características das pessoas interessadas em peças usinadas em tornos mecânicos.\n",
            "* Identificar oportunidades para melhorar o conteúdo e os produtos relacionados a essas peças.\n",
            "\n",
            "**Etapas Qualitativas:**\n",
            "\n",
            "**1. Entrevistas em Profundidade (n=10)**\n",
            "\n",
            "* Recrutar participantes que representem o público-alvo (por exemplo, engenheiros, fabricantes, hobbystas).\n",
            "* Conduzir entrevistas individuais para explorar suas experiências, motivações e pontos problemáticos relacionados a peças usinadas.\n",
            "\n",
            "**2. Grupos Focais (n=2)**\n",
            "\n",
            "* Facilitar grupos focais com 6-8 participantes para discutir tópicos específicos relacionados a peças usinadas, como especificações técnicas, qualidade e disponibilidade.\n",
            "\n",
            "**Etapas Quantitativas:**\n",
            "\n",
            "**1. Pesquisa Online (n=200)**\n",
            "\n",
            "* Criar uma pesquisa online para coletar dados demográficos, comportamentais e de preferência de uma amostra maior de pessoas interessadas em peças usinadas.\n",
            "* Distribuir a pesquisa por meio de canais relevantes (por exemplo, fóruns da indústria, mídias sociais).\n",
            "\n",
            "**2. Análise de Dados de Uso (opcional)**\n",
            "\n",
            "* Se disponível, analisar dados de uso de sites ou plataformas relacionadas a peças usinadas para identificar padrões de comportamento e preferências.\n",
            "\n",
            "**Processo de Análise:**\n",
            "\n",
            "**1. Codificação e Categorização:**\n",
            "\n",
            "* Codificar e categorizar dados qualitativos e quantitativos para identificar temas e padrões emergentes.\n",
            "\n",
            "**2. Criação de Personas:**\n",
            "\n",
            "* Com base nas descobertas da pesquisa, criar personas detalhadas que representem os diferentes tipos de pessoas interessadas em peças usinadas.\n",
            "* Incluir informações sobre seus desafios, necessidades, motivações e comportamentos.\n",
            "\n",
            "**3. Validação e Refinamento:**\n",
            "\n",
            "* Validar as personas com os participantes da pesquisa e especialistas da indústria.\n",
            "* Refinar as personas conforme necessário para garantir precisão e relevância.\n",
            "\n",
            "**Cronograma:**\n",
            "\n",
            "* **Semana 1:** Entrevistas em profundidade e grupos focais\n",
            "* **Semana 2:** Pesquisa online e análise de dados de uso (se disponível)\n",
            "* **Semana 3:** Codificação e categorização\n",
            "* **Semana 4:** Criação de personas\n",
            "* **Semana 5:** Validação e refinamento\n",
            "* **Semana 6:** Relatório final e apresentação\n"
          ]
        }
      ]
    },
    {
      "cell_type": "code",
      "source": [
        "\n"
      ],
      "metadata": {
        "colab": {
          "base_uri": "https://localhost:8080/",
          "height": 159
        },
        "id": "FuspvjCO2k-T",
        "outputId": "63d75d08-b06e-4404-9f25-c0022c0d0cd3"
      },
      "execution_count": 18,
      "outputs": [
        {
          "output_type": "error",
          "ename": "AttributeError",
          "evalue": "'GenerateContentResponse' object has no attribute 'json'",
          "traceback": [
            "\u001b[0;31m---------------------------------------------------------------------------\u001b[0m",
            "\u001b[0;31mAttributeError\u001b[0m                            Traceback (most recent call last)",
            "\u001b[0;32m<ipython-input-18-5cc6ba0af555>\u001b[0m in \u001b[0;36m<cell line: 1>\u001b[0;34m()\u001b[0m\n\u001b[0;32m----> 1\u001b[0;31m \u001b[0mdata\u001b[0m \u001b[0;34m=\u001b[0m \u001b[0mplano_de_acoes\u001b[0m\u001b[0;34m.\u001b[0m\u001b[0mjson\u001b[0m\u001b[0;34m(\u001b[0m\u001b[0;34m)\u001b[0m\u001b[0;34m\u001b[0m\u001b[0;34m\u001b[0m\u001b[0m\n\u001b[0m\u001b[1;32m      2\u001b[0m \u001b[0mprint\u001b[0m\u001b[0;34m(\u001b[0m\u001b[0mdata\u001b[0m\u001b[0;34m)\u001b[0m\u001b[0;34m\u001b[0m\u001b[0;34m\u001b[0m\u001b[0m\n",
            "\u001b[0;31mAttributeError\u001b[0m: 'GenerateContentResponse' object has no attribute 'json'"
          ]
        }
      ]
    }
  ]
}